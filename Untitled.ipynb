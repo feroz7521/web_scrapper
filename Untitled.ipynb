{
 "cells": [
  {
   "cell_type": "code",
   "execution_count": 191,
   "id": "8199d5ed-e7d2-43d8-8128-200a39bd6d73",
   "metadata": {},
   "outputs": [],
   "source": [
    "import requests\n",
    "from bs4 import BeautifulSoup as bs\n",
    "from urllib.request import urlopen\n",
    "import logging"
   ]
  },
  {
   "cell_type": "code",
   "execution_count": 196,
   "id": "85a8eb62-ae5a-434c-bbef-14a45ee9e166",
   "metadata": {},
   "outputs": [],
   "source": [
    "flipkart_url = \"https://www.flipkart.com/search?q=\" + \"hppavilion\""
   ]
  },
  {
   "cell_type": "code",
   "execution_count": 197,
   "id": "87df449d-d132-42de-8d07-035646b87398",
   "metadata": {},
   "outputs": [
    {
     "data": {
      "text/plain": [
       "'https://www.flipkart.com/search?q=hppavilion'"
      ]
     },
     "execution_count": 197,
     "metadata": {},
     "output_type": "execute_result"
    }
   ],
   "source": [
    "flipkart_url"
   ]
  },
  {
   "cell_type": "code",
   "execution_count": 202,
   "id": "13b2a77e-e49e-4ff7-b9ef-b18901bd2384",
   "metadata": {},
   "outputs": [],
   "source": [
    "url_client = urlopen(flipkart_url)"
   ]
  },
  {
   "cell_type": "code",
   "execution_count": 204,
   "id": "181ff753-7bd8-4eea-9d46-a42ab556c359",
   "metadata": {},
   "outputs": [
    {
     "data": {
      "text/plain": [
       "<http.client.HTTPResponse at 0x7fb4c1b75060>"
      ]
     },
     "execution_count": 204,
     "metadata": {},
     "output_type": "execute_result"
    }
   ],
   "source": [
    "url_client"
   ]
  },
  {
   "cell_type": "code",
   "execution_count": 205,
   "id": "9cf3f812-3072-4372-824b-f27429ecaff1",
   "metadata": {},
   "outputs": [],
   "source": [
    "flipkart_page = url_client.read()"
   ]
  },
  {
   "cell_type": "code",
   "execution_count": 206,
   "id": "d95ec0df-cd98-4ee2-b7a9-5163bf708ec7",
   "metadata": {},
   "outputs": [],
   "source": [
    "flipkart_html = bs(flipkart_page,'html.parser')"
   ]
  },
  {
   "cell_type": "code",
   "execution_count": 207,
   "id": "01836909-4b04-4bf6-911e-09b44e26b250",
   "metadata": {},
   "outputs": [],
   "source": [
    "big_box = flipkart_html.find_all('div' , {'class' : \"_1AtVbE col-12-12\"})"
   ]
  },
  {
   "cell_type": "code",
   "execution_count": 208,
   "id": "90e683a8-b5f2-44c5-a094-d6bf84e730dd",
   "metadata": {},
   "outputs": [
    {
     "data": {
      "text/plain": [
       "29"
      ]
     },
     "execution_count": 208,
     "metadata": {},
     "output_type": "execute_result"
    }
   ],
   "source": [
    "len(big_box)"
   ]
  },
  {
   "cell_type": "code",
   "execution_count": 209,
   "id": "e117e5ff-10df-412c-acc9-3a65fb3997c7",
   "metadata": {},
   "outputs": [],
   "source": [
    "del big_box[0:3]"
   ]
  },
  {
   "cell_type": "code",
   "execution_count": 210,
   "id": "57819e44-15e2-4f2c-be08-814fce7cf5dd",
   "metadata": {},
   "outputs": [],
   "source": [
    "product_link = \"http://www.flipkart.com\" + big_box[3].div.div.div.a['href']"
   ]
  },
  {
   "cell_type": "code",
   "execution_count": 211,
   "id": "998ab1dd-d629-4441-b7b7-01bc1bfe95a1",
   "metadata": {},
   "outputs": [],
   "source": [
    "product_rqst = requests.get(product_link)"
   ]
  },
  {
   "cell_type": "code",
   "execution_count": 212,
   "id": "3629698d-589c-470e-af2a-ce04d080e01d",
   "metadata": {},
   "outputs": [
    {
     "data": {
      "text/plain": [
       "'http://www.flipkart.com/hp-pavilion-gaming-ryzen-5-hexa-core-4600h-8-gb-1-tb-hdd-256-gb-ssd-windows-10-home-4-graphics-nvidia-geforce-gtx-1650-ti-15-ec1050ax-laptop/p/itmdc6a7508f0ea9?pid=COMFT8GXRWZ5RZ4T&lid=LSTCOMFT8GXRWZ5RZ4T7ZMING&marketplace=FLIPKART&q=hppavilion&store=search.flipkart.com&srno=s_1_6&otracker=search&fm=organic&iid=dd6003bd-fe6a-4e67-a45f-a8a588ac71ec.COMFT8GXRWZ5RZ4T.SEARCH&ppt=None&ppn=None&ssid=kogcm8q8g00000001688914995925&qH=404d9b7602e47458'"
      ]
     },
     "execution_count": 212,
     "metadata": {},
     "output_type": "execute_result"
    }
   ],
   "source": [
    "product_link"
   ]
  },
  {
   "cell_type": "code",
   "execution_count": 213,
   "id": "34be4add-82df-4a8b-a097-b7c96c517be8",
   "metadata": {},
   "outputs": [],
   "source": [
    "item_html = bs(product_rqst.text , 'html.parser')"
   ]
  },
  {
   "cell_type": "code",
   "execution_count": 214,
   "id": "64c7f7ce-2fba-43f6-a723-8440758b313c",
   "metadata": {},
   "outputs": [],
   "source": [
    "comment_box = item_html.find_all('div' , {\"class\" : \"_16PBlm\"})"
   ]
  },
  {
   "cell_type": "code",
   "execution_count": 215,
   "id": "9991e8fb-7bfa-4afc-a5cb-bab7326a76c4",
   "metadata": {},
   "outputs": [
    {
     "data": {
      "text/plain": [
       "7"
      ]
     },
     "execution_count": 215,
     "metadata": {},
     "output_type": "execute_result"
    }
   ],
   "source": [
    "len(comment_box)"
   ]
  },
  {
   "cell_type": "code",
   "execution_count": 216,
   "id": "47435ca7-60a2-4e9c-9542-c565de8b6af3",
   "metadata": {},
   "outputs": [],
   "source": [
    "find_name = comment_box[0].div.div.find_all('p' , {\"class\" : \"_2sc7ZR _2V5EHH\"})[0].text"
   ]
  },
  {
   "cell_type": "code",
   "execution_count": 217,
   "id": "68669806-a6db-4fa0-b56e-8d328230951d",
   "metadata": {},
   "outputs": [
    {
     "name": "stdout",
     "output_type": "stream",
     "text": [
      "Flipkart Customer\n",
      "Ajay Gr\n",
      "Vishal Kumar\n",
      "Harish M\n",
      "Raghav Sood\n",
      "Inderpreet Singh\n"
     ]
    },
    {
     "ename": "AttributeError",
     "evalue": "'NoneType' object has no attribute 'div'",
     "output_type": "error",
     "traceback": [
      "\u001b[0;31m---------------------------------------------------------------------------\u001b[0m",
      "\u001b[0;31mAttributeError\u001b[0m                            Traceback (most recent call last)",
      "Cell \u001b[0;32mIn[217], line 2\u001b[0m\n\u001b[1;32m      1\u001b[0m \u001b[38;5;28;01mfor\u001b[39;00m i \u001b[38;5;129;01min\u001b[39;00m comment_box:\n\u001b[0;32m----> 2\u001b[0m     \u001b[38;5;28mprint\u001b[39m(\u001b[43mi\u001b[49m\u001b[38;5;241;43m.\u001b[39;49m\u001b[43mdiv\u001b[49m\u001b[38;5;241;43m.\u001b[39;49m\u001b[43mdiv\u001b[49m\u001b[38;5;241m.\u001b[39mfind_all(\u001b[38;5;124m'\u001b[39m\u001b[38;5;124mp\u001b[39m\u001b[38;5;124m'\u001b[39m , {\u001b[38;5;124m\"\u001b[39m\u001b[38;5;124mclass\u001b[39m\u001b[38;5;124m\"\u001b[39m : \u001b[38;5;124m\"\u001b[39m\u001b[38;5;124m_2sc7ZR _2V5EHH\u001b[39m\u001b[38;5;124m\"\u001b[39m})[\u001b[38;5;241m0\u001b[39m]\u001b[38;5;241m.\u001b[39mtext)\n",
      "\u001b[0;31mAttributeError\u001b[0m: 'NoneType' object has no attribute 'div'"
     ]
    }
   ],
   "source": [
    "for i in comment_box:\n",
    "    print(i.div.div.find_all('p' , {\"class\" : \"_2sc7ZR _2V5EHH\"})[0].text)"
   ]
  },
  {
   "cell_type": "code",
   "execution_count": 218,
   "id": "29ff8d33-ba2d-427d-a7db-be8e56181f37",
   "metadata": {},
   "outputs": [
    {
     "data": {
      "text/plain": [
       "'Really Nice'"
      ]
     },
     "execution_count": 218,
     "metadata": {},
     "output_type": "execute_result"
    }
   ],
   "source": [
    "comment_box[0].div.div.find_all('p' , {\"class\" : \"_2-N8zT\"})[0].text"
   ]
  },
  {
   "cell_type": "code",
   "execution_count": 219,
   "id": "4cafe69a-c9c3-4d95-8bbf-8ebf67ae5e90",
   "metadata": {},
   "outputs": [
    {
     "name": "stdout",
     "output_type": "stream",
     "text": [
      "Really Nice\n",
      "Worth every penny\n",
      "Really Nice\n",
      "Wonderful\n",
      "Excellent\n",
      "Classy product\n"
     ]
    },
    {
     "ename": "AttributeError",
     "evalue": "'NoneType' object has no attribute 'div'",
     "output_type": "error",
     "traceback": [
      "\u001b[0;31m---------------------------------------------------------------------------\u001b[0m",
      "\u001b[0;31mAttributeError\u001b[0m                            Traceback (most recent call last)",
      "Cell \u001b[0;32mIn[219], line 2\u001b[0m\n\u001b[1;32m      1\u001b[0m \u001b[38;5;28;01mfor\u001b[39;00m i \u001b[38;5;129;01min\u001b[39;00m comment_box:\n\u001b[0;32m----> 2\u001b[0m     \u001b[38;5;28mprint\u001b[39m(\u001b[43mi\u001b[49m\u001b[38;5;241;43m.\u001b[39;49m\u001b[43mdiv\u001b[49m\u001b[38;5;241;43m.\u001b[39;49m\u001b[43mdiv\u001b[49m\u001b[38;5;241m.\u001b[39mfind_all(\u001b[38;5;124m'\u001b[39m\u001b[38;5;124mp\u001b[39m\u001b[38;5;124m'\u001b[39m , {\u001b[38;5;124m\"\u001b[39m\u001b[38;5;124mclass\u001b[39m\u001b[38;5;124m\"\u001b[39m : \u001b[38;5;124m\"\u001b[39m\u001b[38;5;124m_2-N8zT\u001b[39m\u001b[38;5;124m\"\u001b[39m})[\u001b[38;5;241m0\u001b[39m]\u001b[38;5;241m.\u001b[39mtext)\n",
      "\u001b[0;31mAttributeError\u001b[0m: 'NoneType' object has no attribute 'div'"
     ]
    }
   ],
   "source": [
    "for i in comment_box:\n",
    "    print(i.div.div.find_all('p' , {\"class\" : \"_2-N8zT\"})[0].text)"
   ]
  },
  {
   "cell_type": "code",
   "execution_count": 220,
   "id": "852dda6a-680a-4e54-a176-acdc9048abe7",
   "metadata": {},
   "outputs": [
    {
     "data": {
      "text/plain": [
       "'4'"
      ]
     },
     "execution_count": 220,
     "metadata": {},
     "output_type": "execute_result"
    }
   ],
   "source": [
    "comment_box[0].div.div.find_all('div' , {\"class\" : \"_3LWZlK _1BLPMq\"})[0].text"
   ]
  },
  {
   "cell_type": "code",
   "execution_count": 221,
   "id": "af90b477-8a89-4635-9e2a-de70fb435a1c",
   "metadata": {},
   "outputs": [
    {
     "name": "stdout",
     "output_type": "stream",
     "text": [
      "4\n",
      "5\n",
      "4\n",
      "5\n",
      "5\n",
      "5\n"
     ]
    },
    {
     "ename": "AttributeError",
     "evalue": "'NoneType' object has no attribute 'div'",
     "output_type": "error",
     "traceback": [
      "\u001b[0;31m---------------------------------------------------------------------------\u001b[0m",
      "\u001b[0;31mAttributeError\u001b[0m                            Traceback (most recent call last)",
      "Cell \u001b[0;32mIn[221], line 2\u001b[0m\n\u001b[1;32m      1\u001b[0m \u001b[38;5;28;01mfor\u001b[39;00m i \u001b[38;5;129;01min\u001b[39;00m comment_box:\n\u001b[0;32m----> 2\u001b[0m     \u001b[38;5;28mprint\u001b[39m(\u001b[43mi\u001b[49m\u001b[38;5;241;43m.\u001b[39;49m\u001b[43mdiv\u001b[49m\u001b[38;5;241;43m.\u001b[39;49m\u001b[43mdiv\u001b[49m\u001b[38;5;241m.\u001b[39mfind_all(\u001b[38;5;124m'\u001b[39m\u001b[38;5;124mdiv\u001b[39m\u001b[38;5;124m'\u001b[39m , {\u001b[38;5;124m\"\u001b[39m\u001b[38;5;124mclass\u001b[39m\u001b[38;5;124m\"\u001b[39m : \u001b[38;5;124m\"\u001b[39m\u001b[38;5;124m_3LWZlK _1BLPMq\u001b[39m\u001b[38;5;124m\"\u001b[39m})[\u001b[38;5;241m0\u001b[39m]\u001b[38;5;241m.\u001b[39mtext)\n",
      "\u001b[0;31mAttributeError\u001b[0m: 'NoneType' object has no attribute 'div'"
     ]
    }
   ],
   "source": [
    "for i in comment_box:\n",
    "    print(i.div.div.find_all('div' , {\"class\" : \"_3LWZlK _1BLPMq\"})[0].text)"
   ]
  },
  {
   "cell_type": "code",
   "execution_count": 222,
   "id": "bd0b2004-8706-4dce-a524-861a64ec8c8a",
   "metadata": {},
   "outputs": [
    {
     "data": {
      "text/plain": [
       "\"To start off, I've upgraded to this from an i3 5th gen laptop1. Design - Feels premium2. Display - 4K videos run3. Keyboard - Nice click to it and good back light. Single color, no RGB.4. Temperature - I played GTA 5  in high graphics, no issues.5. Battery - Good, fast charging.6. GPU - Gets activated when charger is plugged in and game is on. Otherwise runs on internal graphics7. BT and Wifi Cxn - Good8. Sound - Clear and decent Laptop level sound. I don't expect a lot from laptops. ...\""
      ]
     },
     "execution_count": 222,
     "metadata": {},
     "output_type": "execute_result"
    }
   ],
   "source": [
    "comment_box[0].div.div.find_all('div' , {\"class\" : ''})[0].div.text"
   ]
  },
  {
   "cell_type": "code",
   "execution_count": 223,
   "id": "4d539ef2-52c8-4618-ba23-9d332cf79130",
   "metadata": {},
   "outputs": [
    {
     "name": "stdout",
     "output_type": "stream",
     "text": [
      "To start off, I've upgraded to this from an i3 5th gen laptop1. Design - Feels premium2. Display - 4K videos run3. Keyboard - Nice click to it and good back light. Single color, no RGB.4. Temperature - I played GTA 5  in high graphics, no issues.5. Battery - Good, fast charging.6. GPU - Gets activated when charger is plugged in and game is on. Otherwise runs on internal graphics7. BT and Wifi Cxn - Good8. Sound - Clear and decent Laptop level sound. I don't expect a lot from laptops. ...\n",
      "HP Pavilion is a perfect lap for this budget.....Pros:--Premium design-B&O sound quality-Fast boot-1TB HDD is giving 931 GB storage-Backilit keyboard is just awsome-Thermals are good-144hz refresh rate performs it's work-Oman Gaming Hub and Amd Radeon Software is there to control the fans -HP cool sense will make our fans rotate as per the room temperature as we don't want to do anything...-Battery is just Ok as for laptops we can't look on thatCons:--720p webcam has to improve...\n",
      "It performs well in high end graphics gaming and AMD RYZEN 4600h is quite good and awesome performance. Nvidia GTX 1650ti as expected has great performance. Battery Backup is also quite good. And display with 144  refresh rate is amazing. U cant get this in the devices of these range. So I have an amazing experience with this device.\n",
      "Best laptop with awesome specs all latest hardware but the price is little higher.\n",
      "Been using this for over 4 months and can say it's one of the best laptop in its price range.\n",
      "Laptop is very good and build design is average, But battery life is not good while gaming performance wise beast\n"
     ]
    },
    {
     "ename": "AttributeError",
     "evalue": "'NoneType' object has no attribute 'div'",
     "output_type": "error",
     "traceback": [
      "\u001b[0;31m---------------------------------------------------------------------------\u001b[0m",
      "\u001b[0;31mAttributeError\u001b[0m                            Traceback (most recent call last)",
      "Cell \u001b[0;32mIn[223], line 2\u001b[0m\n\u001b[1;32m      1\u001b[0m \u001b[38;5;28;01mfor\u001b[39;00m i \u001b[38;5;129;01min\u001b[39;00m comment_box:\n\u001b[0;32m----> 2\u001b[0m     \u001b[38;5;28mprint\u001b[39m(\u001b[43mi\u001b[49m\u001b[38;5;241;43m.\u001b[39;49m\u001b[43mdiv\u001b[49m\u001b[38;5;241;43m.\u001b[39;49m\u001b[43mdiv\u001b[49m\u001b[38;5;241m.\u001b[39mfind_all(\u001b[38;5;124m'\u001b[39m\u001b[38;5;124mdiv\u001b[39m\u001b[38;5;124m'\u001b[39m , {\u001b[38;5;124m\"\u001b[39m\u001b[38;5;124mclass\u001b[39m\u001b[38;5;124m\"\u001b[39m : \u001b[38;5;124m'\u001b[39m\u001b[38;5;124m'\u001b[39m})[\u001b[38;5;241m0\u001b[39m]\u001b[38;5;241m.\u001b[39mdiv\u001b[38;5;241m.\u001b[39mtext)\n",
      "\u001b[0;31mAttributeError\u001b[0m: 'NoneType' object has no attribute 'div'"
     ]
    }
   ],
   "source": [
    "for i in comment_box:\n",
    "    print(i.div.div.find_all('div' , {\"class\" : ''})[0].div.text)"
   ]
  },
  {
   "cell_type": "code",
   "execution_count": null,
   "id": "4ec9287d-e25e-49bd-a538-0b3e8e4d9029",
   "metadata": {},
   "outputs": [],
   "source": []
  },
  {
   "cell_type": "code",
   "execution_count": 173,
   "id": "6e7f0cac-0b4d-4fc2-9235-8fffa1e92e21",
   "metadata": {},
   "outputs": [
    {
     "name": "stdout",
     "output_type": "stream",
     "text": [
      "/realme-11-pro-5g-sunrise-beige-256-gb/p/itm5647cce338e55?pid=MOBGPU8HQPGU7HVR&lid=LSTMOBGPU8HQPGU7HVRYDHQ4Y&marketplace=FLIPKART&q=realme11pro&store=tyy%2F4io&srno=s_1_3&otracker=search&fm=organic&iid=a0e4f56f-e365-45bc-9ee9-7c519160187c.MOBGPU8HQPGU7HVR.SEARCH&ppt=None&ppn=None&ssid=n8glmwzhsw0000001688914392180&qH=a15b277c5b1b0863\n",
      "/realme-11-pro-5g-sunrise-beige-256-gb/p/itm5647cce338e55?pid=MOBGPU8HQQYQN8XT&lid=LSTMOBGPU8HQQYQN8XTJSUCKP&marketplace=FLIPKART&q=realme11pro&store=tyy%2F4io&spotlightTagId=BestsellerId_tyy%2F4io&srno=s_1_4&otracker=search&fm=organic&iid=a0e4f56f-e365-45bc-9ee9-7c519160187c.MOBGPU8HQQYQN8XT.SEARCH&ppt=None&ppn=None&ssid=n8glmwzhsw0000001688914392180&qH=a15b277c5b1b0863\n",
      "/realme-11-pro-5g-astral-black-256-gb/p/itm5647cce338e55?pid=MOBGPU8HFZFVPY2A&lid=LSTMOBGPU8HFZFVPY2AKCOEBQ&marketplace=FLIPKART&q=realme11pro&store=tyy%2F4io&srno=s_1_5&otracker=search&fm=organic&iid=a0e4f56f-e365-45bc-9ee9-7c519160187c.MOBGPU8HFZFVPY2A.SEARCH&ppt=None&ppn=None&ssid=n8glmwzhsw0000001688914392180&qH=a15b277c5b1b0863\n",
      "/realme-11-pro-5g-astral-black-256-gb/p/itm5647cce338e55?pid=MOBGPU8HRUUHYEWE&lid=LSTMOBGPU8HRUUHYEWEOXYFS1&marketplace=FLIPKART&q=realme11pro&store=tyy%2F4io&srno=s_1_6&otracker=search&fm=organic&iid=a0e4f56f-e365-45bc-9ee9-7c519160187c.MOBGPU8HRUUHYEWE.SEARCH&ppt=None&ppn=None&ssid=n8glmwzhsw0000001688914392180&qH=a15b277c5b1b0863\n",
      "/realme-11-pro-5g-astral-black-128-gb/p/itm3f783627a36ec?pid=MOBGPUNGFCGJH4NH&lid=LSTMOBGPUNGFCGJH4NHRHO6FJ&marketplace=FLIPKART&q=realme11pro&store=tyy%2F4io&srno=s_1_7&otracker=search&fm=organic&iid=a0e4f56f-e365-45bc-9ee9-7c519160187c.MOBGPUNGFCGJH4NH.SEARCH&ppt=None&ppn=None&ssid=n8glmwzhsw0000001688914392180&qH=a15b277c5b1b0863\n",
      "/realme-11-pro-5g-sunrise-beige-256-gb/p/itm3f783627a36ec?pid=MOBGPUNGNFZTHKHG&lid=LSTMOBGPUNGNFZTHKHGWTDV1H&marketplace=FLIPKART&q=realme11pro&store=tyy%2F4io&srno=s_1_8&otracker=search&fm=organic&iid=a0e4f56f-e365-45bc-9ee9-7c519160187c.MOBGPUNGNFZTHKHG.SEARCH&ppt=None&ppn=None&ssid=n8glmwzhsw0000001688914392180&qH=a15b277c5b1b0863\n",
      "/realme-11-pro-5g-oasis-green-256-gb/p/itm3f783627a36ec?pid=MOBGQWWXCQVFZDBK&lid=LSTMOBGQWWXCQVFZDBKPKAEK7&marketplace=FLIPKART&q=realme11pro&store=tyy%2F4io&srno=s_1_9&otracker=search&fm=organic&iid=a0e4f56f-e365-45bc-9ee9-7c519160187c.MOBGQWWXCQVFZDBK.SEARCH&ppt=None&ppn=None&ssid=n8glmwzhsw0000001688914392180&qH=a15b277c5b1b0863\n",
      "/realme-11-pro-5g-astral-black-256-gb/p/itm3f783627a36ec?pid=MOBGPUNGDGRHGTDW&lid=LSTMOBGPUNGDGRHGTDWRHHF8B&marketplace=FLIPKART&q=realme11pro&store=tyy%2F4io&srno=s_1_10&otracker=search&fm=organic&iid=a0e4f56f-e365-45bc-9ee9-7c519160187c.MOBGPUNGDGRHGTDW.SEARCH&ppt=None&ppn=None&ssid=n8glmwzhsw0000001688914392180&qH=a15b277c5b1b0863\n",
      "/realme-8-pro-infinite-blue-128-gb/p/itmaa9c73f5a987c?pid=MOBGYV98YPZ5R9BG&lid=LSTMOBGYV98YPZ5R9BGZO4FHL&marketplace=FLIPKART&q=realme11pro&store=tyy%2F4io&srno=s_1_11&otracker=search&fm=organic&iid=a0e4f56f-e365-45bc-9ee9-7c519160187c.MOBGYV98YPZ5R9BG.SEARCH&ppt=None&ppn=None&ssid=n8glmwzhsw0000001688914392180&qH=a15b277c5b1b0863\n",
      "/realme-8-pro-infinite-blue-128-gb/p/itmaa9c73f5a987c?pid=MOBGYV98PHMCPQWX&lid=LSTMOBGYV98PHMCPQWXT4BPTG&marketplace=FLIPKART&q=realme11pro&store=tyy%2F4io&srno=s_1_12&otracker=search&fm=organic&iid=a0e4f56f-e365-45bc-9ee9-7c519160187c.MOBGYV98PHMCPQWX.SEARCH&ppt=None&ppn=None&ssid=n8glmwzhsw0000001688914392180&qH=a15b277c5b1b0863\n",
      "/realme-8-pro-illuminating-yellow-128-gb/p/itmaa9c73f5a987c?pid=MOBGYV98ESYUZZUK&lid=LSTMOBGYV98ESYUZZUKRCMMLW&marketplace=FLIPKART&q=realme11pro&store=tyy%2F4io&srno=s_1_13&otracker=search&fm=organic&iid=a0e4f56f-e365-45bc-9ee9-7c519160187c.MOBGYV98ESYUZZUK.SEARCH&ppt=None&ppn=None&ssid=n8glmwzhsw0000001688914392180&qH=a15b277c5b1b0863\n",
      "/realme-8-pro-infinite-black-128-gb/p/itmaa9c73f5a987c?pid=MOBGYV98E5Z8NHTZ&lid=LSTMOBGYV98E5Z8NHTZS0BYB8&marketplace=FLIPKART&q=realme11pro&store=tyy%2F4io&srno=s_1_14&otracker=search&fm=organic&iid=a0e4f56f-e365-45bc-9ee9-7c519160187c.MOBGYV98E5Z8NHTZ.SEARCH&ppt=None&ppn=None&ssid=n8glmwzhsw0000001688914392180&qH=a15b277c5b1b0863\n",
      "/realme-8-pro-infinite-black-128-gb/p/itmaa9c73f5a987c?pid=MOBGYV98ZWDGFWKT&lid=LSTMOBGYV98ZWDGFWKTQQHZXF&marketplace=FLIPKART&q=realme11pro&store=tyy%2F4io&srno=s_1_15&otracker=search&fm=organic&iid=a0e4f56f-e365-45bc-9ee9-7c519160187c.MOBGYV98ZWDGFWKT.SEARCH&ppt=None&ppn=None&ssid=n8glmwzhsw0000001688914392180&qH=a15b277c5b1b0863\n",
      "/realme-8-pro-illuminating-yellow-128-gb/p/itmaa9c73f5a987c?pid=MOBGYV98QH6HZ9NF&lid=LSTMOBGYV98QH6HZ9NFOQWL7C&marketplace=FLIPKART&q=realme11pro&store=tyy%2F4io&srno=s_1_16&otracker=search&fm=organic&iid=a0e4f56f-e365-45bc-9ee9-7c519160187c.MOBGYV98QH6HZ9NF.SEARCH&ppt=None&ppn=None&ssid=n8glmwzhsw0000001688914392180&qH=a15b277c5b1b0863\n"
     ]
    },
    {
     "ename": "AttributeError",
     "evalue": "'NoneType' object has no attribute 'a'",
     "output_type": "error",
     "traceback": [
      "\u001b[0;31m---------------------------------------------------------------------------\u001b[0m",
      "\u001b[0;31mAttributeError\u001b[0m                            Traceback (most recent call last)",
      "Cell \u001b[0;32mIn[173], line 2\u001b[0m\n\u001b[1;32m      1\u001b[0m \u001b[38;5;28;01mfor\u001b[39;00m i \u001b[38;5;129;01min\u001b[39;00m big_box:\n\u001b[0;32m----> 2\u001b[0m     \u001b[38;5;28mprint\u001b[39m(\u001b[43mi\u001b[49m\u001b[38;5;241;43m.\u001b[39;49m\u001b[43mdiv\u001b[49m\u001b[38;5;241;43m.\u001b[39;49m\u001b[43mdiv\u001b[49m\u001b[38;5;241;43m.\u001b[39;49m\u001b[43mdiv\u001b[49m\u001b[38;5;241;43m.\u001b[39;49m\u001b[43ma\u001b[49m[\u001b[38;5;124m'\u001b[39m\u001b[38;5;124mhref\u001b[39m\u001b[38;5;124m'\u001b[39m])\n",
      "\u001b[0;31mAttributeError\u001b[0m: 'NoneType' object has no attribute 'a'"
     ]
    }
   ],
   "source": [
    "for i in big_box:\n",
    "    print(i.div.div.div.a['href'])"
   ]
  },
  {
   "cell_type": "code",
   "execution_count": null,
   "id": "80c5caf1-e45e-4ecb-9947-356003522a60",
   "metadata": {},
   "outputs": [],
   "source": []
  }
 ],
 "metadata": {
  "kernelspec": {
   "display_name": "Python 3 (ipykernel)",
   "language": "python",
   "name": "python3"
  },
  "language_info": {
   "codemirror_mode": {
    "name": "ipython",
    "version": 3
   },
   "file_extension": ".py",
   "mimetype": "text/x-python",
   "name": "python",
   "nbconvert_exporter": "python",
   "pygments_lexer": "ipython3",
   "version": "3.10.8"
  }
 },
 "nbformat": 4,
 "nbformat_minor": 5
}
